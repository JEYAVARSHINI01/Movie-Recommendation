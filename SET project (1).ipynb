{
 "cells": [
  {
   "cell_type": "code",
   "execution_count": 1,
   "metadata": {},
   "outputs": [],
   "source": [
    "import pandas as pd\n",
    "import gzip\n",
    "\n",
    "def parse(path):\n",
    "  g = gzip.open(path, 'rb')\n",
    "  for l in g:\n",
    "    yield eval(l)\n",
    "\n",
    "def getDF(path):\n",
    "  i = 0\n",
    "  df = {}\n",
    "  for d in parse(path):\n",
    "    df[i] = d\n",
    "    i += 1\n",
    "  return pd.DataFrame.from_dict(df, orient='index')\n",
    "\n",
    "df = getDF('reviews_Clothing_Shoes_and_Jewelry_5.json.gz')"
   ]
  },
  {
   "cell_type": "code",
   "execution_count": 2,
   "metadata": {},
   "outputs": [
    {
     "data": {
      "text/html": [
       "<div>\n",
       "<style scoped>\n",
       "    .dataframe tbody tr th:only-of-type {\n",
       "        vertical-align: middle;\n",
       "    }\n",
       "\n",
       "    .dataframe tbody tr th {\n",
       "        vertical-align: top;\n",
       "    }\n",
       "\n",
       "    .dataframe thead th {\n",
       "        text-align: right;\n",
       "    }\n",
       "</style>\n",
       "<table border=\"1\" class=\"dataframe\">\n",
       "  <thead>\n",
       "    <tr style=\"text-align: right;\">\n",
       "      <th></th>\n",
       "      <th>reviewerID</th>\n",
       "      <th>asin</th>\n",
       "      <th>reviewerName</th>\n",
       "      <th>helpful</th>\n",
       "      <th>reviewText</th>\n",
       "      <th>overall</th>\n",
       "      <th>summary</th>\n",
       "      <th>unixReviewTime</th>\n",
       "      <th>reviewTime</th>\n",
       "    </tr>\n",
       "  </thead>\n",
       "  <tbody>\n",
       "    <tr>\n",
       "      <td>0</td>\n",
       "      <td>A1KLRMWW2FWPL4</td>\n",
       "      <td>0000031887</td>\n",
       "      <td>Amazon Customer \"cameramom\"</td>\n",
       "      <td>[0, 0]</td>\n",
       "      <td>This is a great tutu and at a really great pri...</td>\n",
       "      <td>5.0</td>\n",
       "      <td>Great tutu-  not cheaply made</td>\n",
       "      <td>1297468800</td>\n",
       "      <td>02 12, 2011</td>\n",
       "    </tr>\n",
       "    <tr>\n",
       "      <td>1</td>\n",
       "      <td>A2G5TCU2WDFZ65</td>\n",
       "      <td>0000031887</td>\n",
       "      <td>Amazon Customer</td>\n",
       "      <td>[0, 0]</td>\n",
       "      <td>I bought this for my 4 yr old daughter for dan...</td>\n",
       "      <td>5.0</td>\n",
       "      <td>Very Cute!!</td>\n",
       "      <td>1358553600</td>\n",
       "      <td>01 19, 2013</td>\n",
       "    </tr>\n",
       "    <tr>\n",
       "      <td>2</td>\n",
       "      <td>A1RLQXYNCMWRWN</td>\n",
       "      <td>0000031887</td>\n",
       "      <td>Carola</td>\n",
       "      <td>[0, 0]</td>\n",
       "      <td>What can I say... my daughters have it in oran...</td>\n",
       "      <td>5.0</td>\n",
       "      <td>I have buy more than one</td>\n",
       "      <td>1357257600</td>\n",
       "      <td>01 4, 2013</td>\n",
       "    </tr>\n",
       "    <tr>\n",
       "      <td>3</td>\n",
       "      <td>A8U3FAMSJVHS5</td>\n",
       "      <td>0000031887</td>\n",
       "      <td>Caromcg</td>\n",
       "      <td>[0, 0]</td>\n",
       "      <td>We bought several tutus at once, and they are ...</td>\n",
       "      <td>5.0</td>\n",
       "      <td>Adorable, Sturdy</td>\n",
       "      <td>1398556800</td>\n",
       "      <td>04 27, 2014</td>\n",
       "    </tr>\n",
       "    <tr>\n",
       "      <td>4</td>\n",
       "      <td>A3GEOILWLK86XM</td>\n",
       "      <td>0000031887</td>\n",
       "      <td>CJ</td>\n",
       "      <td>[0, 0]</td>\n",
       "      <td>Thank you Halo Heaven great product for Little...</td>\n",
       "      <td>5.0</td>\n",
       "      <td>Grammy's Angels Love it</td>\n",
       "      <td>1394841600</td>\n",
       "      <td>03 15, 2014</td>\n",
       "    </tr>\n",
       "  </tbody>\n",
       "</table>\n",
       "</div>"
      ],
      "text/plain": [
       "       reviewerID        asin                 reviewerName helpful  \\\n",
       "0  A1KLRMWW2FWPL4  0000031887  Amazon Customer \"cameramom\"  [0, 0]   \n",
       "1  A2G5TCU2WDFZ65  0000031887              Amazon Customer  [0, 0]   \n",
       "2  A1RLQXYNCMWRWN  0000031887                       Carola  [0, 0]   \n",
       "3   A8U3FAMSJVHS5  0000031887                      Caromcg  [0, 0]   \n",
       "4  A3GEOILWLK86XM  0000031887                           CJ  [0, 0]   \n",
       "\n",
       "                                          reviewText  overall  \\\n",
       "0  This is a great tutu and at a really great pri...      5.0   \n",
       "1  I bought this for my 4 yr old daughter for dan...      5.0   \n",
       "2  What can I say... my daughters have it in oran...      5.0   \n",
       "3  We bought several tutus at once, and they are ...      5.0   \n",
       "4  Thank you Halo Heaven great product for Little...      5.0   \n",
       "\n",
       "                         summary  unixReviewTime   reviewTime  \n",
       "0  Great tutu-  not cheaply made      1297468800  02 12, 2011  \n",
       "1                    Very Cute!!      1358553600  01 19, 2013  \n",
       "2       I have buy more than one      1357257600   01 4, 2013  \n",
       "3               Adorable, Sturdy      1398556800  04 27, 2014  \n",
       "4        Grammy's Angels Love it      1394841600  03 15, 2014  "
      ]
     },
     "execution_count": 2,
     "metadata": {},
     "output_type": "execute_result"
    }
   ],
   "source": [
    "df.head()"
   ]
  },
  {
   "cell_type": "code",
   "execution_count": 3,
   "metadata": {},
   "outputs": [
    {
     "data": {
      "text/plain": [
       "(278677, 9)"
      ]
     },
     "execution_count": 3,
     "metadata": {},
     "output_type": "execute_result"
    }
   ],
   "source": [
    "df.shape"
   ]
  },
  {
   "cell_type": "code",
   "execution_count": 4,
   "metadata": {},
   "outputs": [
    {
     "name": "stdout",
     "output_type": "stream",
     "text": [
      "Number of unique users: 39387\n"
     ]
    }
   ],
   "source": [
    "print(\"Number of unique users:\",len(df['reviewerID'].unique()))"
   ]
  },
  {
   "cell_type": "code",
   "execution_count": 5,
   "metadata": {},
   "outputs": [
    {
     "name": "stdout",
     "output_type": "stream",
     "text": [
      "Number of unique products: 23033\n"
     ]
    }
   ],
   "source": [
    "print(\"Number of unique products:\",len(df['asin'].unique()))"
   ]
  },
  {
   "cell_type": "code",
   "execution_count": 6,
   "metadata": {},
   "outputs": [
    {
     "name": "stdout",
     "output_type": "stream",
     "text": [
      "density: 0.03071833809100676 %\n"
     ]
    }
   ],
   "source": [
    "density=df.shape[0]/(len(df['reviewerID'].unique())*len(df['asin'].unique()))\n",
    "print(\"density:\",density*100,\"%\")"
   ]
  },
  {
   "cell_type": "code",
   "execution_count": 7,
   "metadata": {},
   "outputs": [
    {
     "data": {
      "text/plain": [
       "array([5., 4., 3., 1., 2.])"
      ]
     },
     "execution_count": 7,
     "metadata": {},
     "output_type": "execute_result"
    }
   ],
   "source": [
    "df['overall'].unique()"
   ]
  },
  {
   "cell_type": "code",
   "execution_count": 8,
   "metadata": {},
   "outputs": [],
   "source": [
    "dataset=df.drop(['reviewerName','helpful','reviewText','summary','unixReviewTime','reviewTime'],axis=1)"
   ]
  },
  {
   "cell_type": "code",
   "execution_count": 9,
   "metadata": {},
   "outputs": [],
   "source": [
    "from sklearn.model_selection import train_test_split\n",
    "train_data,test_data=train_test_split(dataset,test_size=0.3,random_state=42)"
   ]
  },
  {
   "cell_type": "code",
   "execution_count": 10,
   "metadata": {},
   "outputs": [
    {
     "name": "stdout",
     "output_type": "stream",
     "text": [
      "(195073, 3)\n",
      "(83604, 3)\n"
     ]
    }
   ],
   "source": [
    "print(train_data.shape)\n",
    "print(test_data.shape)"
   ]
  },
  {
   "cell_type": "code",
   "execution_count": 11,
   "metadata": {},
   "outputs": [],
   "source": [
    "customer_key={}\n",
    "product_key={}\n",
    "i=0\n",
    "j=0\n",
    "for cust_id in train_data['reviewerID'].unique():\n",
    "    customer_key[cust_id]=i\n",
    "    i+=1\n",
    "for prod_id in train_data['asin'].unique():\n",
    "    product_key[prod_id]=j\n",
    "    j+=1"
   ]
  },
  {
   "cell_type": "code",
   "execution_count": 12,
   "metadata": {},
   "outputs": [
    {
     "data": {
      "text/html": [
       "<div>\n",
       "<style scoped>\n",
       "    .dataframe tbody tr th:only-of-type {\n",
       "        vertical-align: middle;\n",
       "    }\n",
       "\n",
       "    .dataframe tbody tr th {\n",
       "        vertical-align: top;\n",
       "    }\n",
       "\n",
       "    .dataframe thead th {\n",
       "        text-align: right;\n",
       "    }\n",
       "</style>\n",
       "<table border=\"1\" class=\"dataframe\">\n",
       "  <thead>\n",
       "    <tr style=\"text-align: right;\">\n",
       "      <th></th>\n",
       "      <th>reviewerID</th>\n",
       "      <th>asin</th>\n",
       "      <th>overall</th>\n",
       "    </tr>\n",
       "  </thead>\n",
       "  <tbody>\n",
       "    <tr>\n",
       "      <td>0</td>\n",
       "      <td>A39TYV0J07OWKK</td>\n",
       "      <td>B001MXGXKU</td>\n",
       "      <td>4.0</td>\n",
       "    </tr>\n",
       "    <tr>\n",
       "      <td>1</td>\n",
       "      <td>A29YBFFD18XO8G</td>\n",
       "      <td>B002BFXLJE</td>\n",
       "      <td>4.0</td>\n",
       "    </tr>\n",
       "    <tr>\n",
       "      <td>2</td>\n",
       "      <td>A34Z9I3XYZOFYO</td>\n",
       "      <td>B00E3GRC9E</td>\n",
       "      <td>2.0</td>\n",
       "    </tr>\n",
       "    <tr>\n",
       "      <td>3</td>\n",
       "      <td>A361E3RBTYPJE</td>\n",
       "      <td>B003JZCQGE</td>\n",
       "      <td>2.0</td>\n",
       "    </tr>\n",
       "    <tr>\n",
       "      <td>4</td>\n",
       "      <td>ACYANSO2REKG6</td>\n",
       "      <td>B000UPVCPW</td>\n",
       "      <td>5.0</td>\n",
       "    </tr>\n",
       "    <tr>\n",
       "      <td>...</td>\n",
       "      <td>...</td>\n",
       "      <td>...</td>\n",
       "      <td>...</td>\n",
       "    </tr>\n",
       "    <tr>\n",
       "      <td>195068</td>\n",
       "      <td>A3O8TYUVCU7ZDB</td>\n",
       "      <td>B0046HA9OK</td>\n",
       "      <td>3.0</td>\n",
       "    </tr>\n",
       "    <tr>\n",
       "      <td>195069</td>\n",
       "      <td>A3UJ9EZ71WHJ3T</td>\n",
       "      <td>B00CVQ16S6</td>\n",
       "      <td>5.0</td>\n",
       "    </tr>\n",
       "    <tr>\n",
       "      <td>195070</td>\n",
       "      <td>A620I80OLZO7I</td>\n",
       "      <td>B004LRO48M</td>\n",
       "      <td>5.0</td>\n",
       "    </tr>\n",
       "    <tr>\n",
       "      <td>195071</td>\n",
       "      <td>A2VPQDBJMZI7FY</td>\n",
       "      <td>B0055X1NDA</td>\n",
       "      <td>3.0</td>\n",
       "    </tr>\n",
       "    <tr>\n",
       "      <td>195072</td>\n",
       "      <td>AMIXJEMYP0A0U</td>\n",
       "      <td>B004A7XXLM</td>\n",
       "      <td>5.0</td>\n",
       "    </tr>\n",
       "  </tbody>\n",
       "</table>\n",
       "<p>195073 rows × 3 columns</p>\n",
       "</div>"
      ],
      "text/plain": [
       "            reviewerID        asin  overall\n",
       "0       A39TYV0J07OWKK  B001MXGXKU      4.0\n",
       "1       A29YBFFD18XO8G  B002BFXLJE      4.0\n",
       "2       A34Z9I3XYZOFYO  B00E3GRC9E      2.0\n",
       "3        A361E3RBTYPJE  B003JZCQGE      2.0\n",
       "4        ACYANSO2REKG6  B000UPVCPW      5.0\n",
       "...                ...         ...      ...\n",
       "195068  A3O8TYUVCU7ZDB  B0046HA9OK      3.0\n",
       "195069  A3UJ9EZ71WHJ3T  B00CVQ16S6      5.0\n",
       "195070   A620I80OLZO7I  B004LRO48M      5.0\n",
       "195071  A2VPQDBJMZI7FY  B0055X1NDA      3.0\n",
       "195072   AMIXJEMYP0A0U  B004A7XXLM      5.0\n",
       "\n",
       "[195073 rows x 3 columns]"
      ]
     },
     "execution_count": 12,
     "metadata": {},
     "output_type": "execute_result"
    }
   ],
   "source": [
    "train_data=train_data.reset_index()\n",
    "train_data.drop('index',inplace=True,axis=1)\n",
    "train_data"
   ]
  },
  {
   "cell_type": "code",
   "execution_count": 13,
   "metadata": {},
   "outputs": [
    {
     "name": "stderr",
     "output_type": "stream",
     "text": [
      "100%|███████████████████████████████████████████████████████████████████████| 195073/195073 [00:13<00:00, 14869.96it/s]\n"
     ]
    }
   ],
   "source": [
    "from tqdm import tqdm \n",
    "mat_dataset=[]\n",
    "for i in tqdm(range(train_data.shape[0])):\n",
    "    mat_dataset.append([customer_key[train_data['reviewerID'].iloc[i]],product_key[train_data['asin'].iloc[i]],train_data['overall'][i]])"
   ]
  },
  {
   "cell_type": "code",
   "execution_count": 14,
   "metadata": {},
   "outputs": [
    {
     "data": {
      "text/html": [
       "<div>\n",
       "<style scoped>\n",
       "    .dataframe tbody tr th:only-of-type {\n",
       "        vertical-align: middle;\n",
       "    }\n",
       "\n",
       "    .dataframe tbody tr th {\n",
       "        vertical-align: top;\n",
       "    }\n",
       "\n",
       "    .dataframe thead th {\n",
       "        text-align: right;\n",
       "    }\n",
       "</style>\n",
       "<table border=\"1\" class=\"dataframe\">\n",
       "  <thead>\n",
       "    <tr style=\"text-align: right;\">\n",
       "      <th></th>\n",
       "      <th>user</th>\n",
       "      <th>product</th>\n",
       "      <th>rating</th>\n",
       "    </tr>\n",
       "  </thead>\n",
       "  <tbody>\n",
       "    <tr>\n",
       "      <td>0</td>\n",
       "      <td>0</td>\n",
       "      <td>0</td>\n",
       "      <td>4.0</td>\n",
       "    </tr>\n",
       "    <tr>\n",
       "      <td>1</td>\n",
       "      <td>1</td>\n",
       "      <td>1</td>\n",
       "      <td>4.0</td>\n",
       "    </tr>\n",
       "    <tr>\n",
       "      <td>2</td>\n",
       "      <td>2</td>\n",
       "      <td>2</td>\n",
       "      <td>2.0</td>\n",
       "    </tr>\n",
       "    <tr>\n",
       "      <td>3</td>\n",
       "      <td>3</td>\n",
       "      <td>3</td>\n",
       "      <td>2.0</td>\n",
       "    </tr>\n",
       "    <tr>\n",
       "      <td>4</td>\n",
       "      <td>4</td>\n",
       "      <td>4</td>\n",
       "      <td>5.0</td>\n",
       "    </tr>\n",
       "    <tr>\n",
       "      <td>...</td>\n",
       "      <td>...</td>\n",
       "      <td>...</td>\n",
       "      <td>...</td>\n",
       "    </tr>\n",
       "    <tr>\n",
       "      <td>195068</td>\n",
       "      <td>13578</td>\n",
       "      <td>2900</td>\n",
       "      <td>3.0</td>\n",
       "    </tr>\n",
       "    <tr>\n",
       "      <td>195069</td>\n",
       "      <td>11920</td>\n",
       "      <td>18338</td>\n",
       "      <td>5.0</td>\n",
       "    </tr>\n",
       "    <tr>\n",
       "      <td>195070</td>\n",
       "      <td>11854</td>\n",
       "      <td>1974</td>\n",
       "      <td>5.0</td>\n",
       "    </tr>\n",
       "    <tr>\n",
       "      <td>195071</td>\n",
       "      <td>910</td>\n",
       "      <td>5350</td>\n",
       "      <td>3.0</td>\n",
       "    </tr>\n",
       "    <tr>\n",
       "      <td>195072</td>\n",
       "      <td>24568</td>\n",
       "      <td>137</td>\n",
       "      <td>5.0</td>\n",
       "    </tr>\n",
       "  </tbody>\n",
       "</table>\n",
       "<p>195073 rows × 3 columns</p>\n",
       "</div>"
      ],
      "text/plain": [
       "         user  product  rating\n",
       "0           0        0     4.0\n",
       "1           1        1     4.0\n",
       "2           2        2     2.0\n",
       "3           3        3     2.0\n",
       "4           4        4     5.0\n",
       "...       ...      ...     ...\n",
       "195068  13578     2900     3.0\n",
       "195069  11920    18338     5.0\n",
       "195070  11854     1974     5.0\n",
       "195071    910     5350     3.0\n",
       "195072  24568      137     5.0\n",
       "\n",
       "[195073 rows x 3 columns]"
      ]
     },
     "execution_count": 14,
     "metadata": {},
     "output_type": "execute_result"
    }
   ],
   "source": [
    "cleaned_df=pd.DataFrame(mat_dataset,columns=['user','product','rating'])\n",
    "cleaned_df"
   ]
  },
  {
   "cell_type": "code",
   "execution_count": 16,
   "metadata": {
    "scrolled": false
   },
   "outputs": [
    {
     "data": {
      "image/png": "[encoded data removed]",
      "text/plain": [
       "<Figure size 1080x720 with 1 Axes>"
      ]
     },
     "metadata": {
      "needs_background": "light"
     },
     "output_type": "display_data"
    }
   ],
   "source": [
    "import matplotlib.pyplot as plt\n",
    "import numpy as np\n",
    "value,freq=np.unique(cleaned_df['user'],return_counts=True)\n",
    "max_freq_value=max(freq)\n",
    "freq_counts,bins=np.histogram(freq,bins=np.arange(max_freq_value+1))\n",
    "fig=plt.figure(figsize=(15,10))\n",
    "plt.bar(x=list(np.arange(max_freq_value)),height=list(freq_counts))\n",
    "plt.xlabel(\"Number of products purchased\")\n",
    "plt.ylabel(\"Number of users purchased\")\n",
    "plt.title(\"How many number of users brought how many products\")\n",
    "plt.show()"
   ]
  },
  {
   "cell_type": "code",
   "execution_count": 17,
   "metadata": {},
   "outputs": [
    {
     "data": {
      "image/png": "[encoded data removed]",
      "text/plain": [
       "<Figure size 1080x720 with 1 Axes>"
      ]
     },
     "metadata": {
      "needs_background": "light"
     },
     "output_type": "display_data"
    }
   ],
   "source": [
    "import matplotlib.pyplot as plt\n",
    "import numpy as np\n",
    "value,freq=np.unique(cleaned_df['user'],return_counts=True)\n",
    "freq_counts,bins=np.histogram(freq,bins=np.arange(31))\n",
    "fig=plt.figure(figsize=(15,10))\n",
    "plt.bar(x=list(np.arange(30)),height=list(freq_counts))\n",
    "plt.xlabel(\"Number of products purchased\")\n",
    "plt.ylabel(\"Number of users purchased\")\n",
    "plt.title(\"How many number of users brought how many products\")\n",
    "plt.show()"
   ]
  },
  {
   "cell_type": "code",
   "execution_count": 18,
   "metadata": {},
   "outputs": [
    {
     "data": {
      "image/png": "[encoded data removed]",
      "text/plain": [
       "<Figure size 432x288 with 1 Axes>"
      ]
     },
     "metadata": {
      "needs_background": "light"
     },
     "output_type": "display_data"
    }
   ],
   "source": [
    "value,freq=np.unique(cleaned_df['rating'],return_counts=True)\n",
    "plt.bar(np.arange(1,6),freq)\n",
    "plt.title(\"Number of users who done the particular rating\")\n",
    "plt.xlabel(\"Rating\")\n",
    "plt.ylabel(\"Number of users\")\n",
    "plt.show()"
   ]
  },
  {
   "cell_type": "code",
   "execution_count": 19,
   "metadata": {},
   "outputs": [],
   "source": [
    "from scipy.sparse import csr_matrix\n",
    "adjacency_matrix=csr_matrix((cleaned_df['rating'],(cleaned_df['user'],cleaned_df['product'])))"
   ]
  },
  {
   "cell_type": "code",
   "execution_count": 20,
   "metadata": {},
   "outputs": [
    {
     "data": {
      "text/html": [
       "<div>\n",
       "<style scoped>\n",
       "    .dataframe tbody tr th:only-of-type {\n",
       "        vertical-align: middle;\n",
       "    }\n",
       "\n",
       "    .dataframe tbody tr th {\n",
       "        vertical-align: top;\n",
       "    }\n",
       "\n",
       "    .dataframe thead th {\n",
       "        text-align: right;\n",
       "    }\n",
       "</style>\n",
       "<table border=\"1\" class=\"dataframe\">\n",
       "  <thead>\n",
       "    <tr style=\"text-align: right;\">\n",
       "      <th></th>\n",
       "      <th>reviewerID</th>\n",
       "      <th>asin</th>\n",
       "      <th>overall</th>\n",
       "    </tr>\n",
       "  </thead>\n",
       "  <tbody>\n",
       "    <tr>\n",
       "      <td>0</td>\n",
       "      <td>A3VEG1Q7ENAL0F</td>\n",
       "      <td>B008AM4Q3C</td>\n",
       "      <td>5.0</td>\n",
       "    </tr>\n",
       "    <tr>\n",
       "      <td>1</td>\n",
       "      <td>A3LHZQMWBJBSLU</td>\n",
       "      <td>B002EQALPM</td>\n",
       "      <td>5.0</td>\n",
       "    </tr>\n",
       "    <tr>\n",
       "      <td>2</td>\n",
       "      <td>A3F91ZIAXKHIRW</td>\n",
       "      <td>B005GYGD7O</td>\n",
       "      <td>4.0</td>\n",
       "    </tr>\n",
       "    <tr>\n",
       "      <td>3</td>\n",
       "      <td>A7Y0ZTNQN1JD1</td>\n",
       "      <td>B0091KYB2I</td>\n",
       "      <td>5.0</td>\n",
       "    </tr>\n",
       "    <tr>\n",
       "      <td>4</td>\n",
       "      <td>A2H9Y30M7VRARG</td>\n",
       "      <td>B00453EQ7Q</td>\n",
       "      <td>1.0</td>\n",
       "    </tr>\n",
       "    <tr>\n",
       "      <td>...</td>\n",
       "      <td>...</td>\n",
       "      <td>...</td>\n",
       "      <td>...</td>\n",
       "    </tr>\n",
       "    <tr>\n",
       "      <td>83599</td>\n",
       "      <td>A3EPCK783K1GTD</td>\n",
       "      <td>B001OC5EYU</td>\n",
       "      <td>3.0</td>\n",
       "    </tr>\n",
       "    <tr>\n",
       "      <td>83600</td>\n",
       "      <td>A3GPUEQZFCYNPL</td>\n",
       "      <td>B000UG2FFW</td>\n",
       "      <td>2.0</td>\n",
       "    </tr>\n",
       "    <tr>\n",
       "      <td>83601</td>\n",
       "      <td>A156CPDDXGDTYG</td>\n",
       "      <td>B008R33TF0</td>\n",
       "      <td>5.0</td>\n",
       "    </tr>\n",
       "    <tr>\n",
       "      <td>83602</td>\n",
       "      <td>A16X8VK5ZAJTHD</td>\n",
       "      <td>B0023TPDPI</td>\n",
       "      <td>3.0</td>\n",
       "    </tr>\n",
       "    <tr>\n",
       "      <td>83603</td>\n",
       "      <td>A3IZ4LHS0G79X7</td>\n",
       "      <td>B005VBKLT8</td>\n",
       "      <td>1.0</td>\n",
       "    </tr>\n",
       "  </tbody>\n",
       "</table>\n",
       "<p>83604 rows × 3 columns</p>\n",
       "</div>"
      ],
      "text/plain": [
       "           reviewerID        asin  overall\n",
       "0      A3VEG1Q7ENAL0F  B008AM4Q3C      5.0\n",
       "1      A3LHZQMWBJBSLU  B002EQALPM      5.0\n",
       "2      A3F91ZIAXKHIRW  B005GYGD7O      4.0\n",
       "3       A7Y0ZTNQN1JD1  B0091KYB2I      5.0\n",
       "4      A2H9Y30M7VRARG  B00453EQ7Q      1.0\n",
       "...               ...         ...      ...\n",
       "83599  A3EPCK783K1GTD  B001OC5EYU      3.0\n",
       "83600  A3GPUEQZFCYNPL  B000UG2FFW      2.0\n",
       "83601  A156CPDDXGDTYG  B008R33TF0      5.0\n",
       "83602  A16X8VK5ZAJTHD  B0023TPDPI      3.0\n",
       "83603  A3IZ4LHS0G79X7  B005VBKLT8      1.0\n",
       "\n",
       "[83604 rows x 3 columns]"
      ]
     },
     "execution_count": 20,
     "metadata": {},
     "output_type": "execute_result"
    }
   ],
   "source": [
    "test_data=test_data.reset_index()\n",
    "test_data.drop('index',inplace=True,axis=1)\n",
    "test_data"
   ]
  },
  {
   "cell_type": "code",
   "execution_count": 21,
   "metadata": {},
   "outputs": [
    {
     "name": "stderr",
     "output_type": "stream",
     "text": [
      "100%|██████████████████████████████████████████████████████████████████████████| 83604/83604 [00:09<00:00, 8945.18it/s]\n"
     ]
    }
   ],
   "source": [
    "test_list=[]\n",
    "for i in tqdm(range(test_data.shape[0])):\n",
    "    if test_data['reviewerID'][i] in customer_key.keys():\n",
    "            if test_data['asin'][i] in product_key.keys():\n",
    "                test_list.append(\n",
    "                    [customer_key[test_data['reviewerID'][i]],\n",
    "                     product_key[test_data['asin'][i]],\n",
    "                     test_data['overall'][i]])"
   ]
  },
  {
   "cell_type": "code",
   "execution_count": 22,
   "metadata": {},
   "outputs": [],
   "source": [
    "test_data=pd.DataFrame(test_list,columns=['user','product','rating'])"
   ]
  },
  {
   "cell_type": "markdown",
   "metadata": {},
   "source": [
    "### Using SVD ###"
   ]
  },
  {
   "cell_type": "code",
   "execution_count": 23,
   "metadata": {},
   "outputs": [],
   "source": [
    "def derivative_db(user_id,item_id,rating,U,V,mu,alpha):\n",
    "    '''In this function, we will compute dL/db_i'''\n",
    "    gradient=(alpha*b_i[user_id]*2)-(2*(rating-mu-b_i[user_id]-c_j[item_id]-np.matmul(U[user_id],V.T[item_id])))\n",
    "    return gradient\n",
    "\n",
    "def derivative_dc(user_id,item_id,rating,U,V,mu, alpha):\n",
    "    '''In this function, we will compute dL/dc_j'''\n",
    "    gradient=(alpha*c_j[item_id]*2)-(2*(rating-mu-b_i[user_id]-c_j[item_id]-np.matmul(U[user_id],V.T[item_id])))\n",
    "    return gradient"
   ]
  },
  {
   "cell_type": "code",
   "execution_count": 24,
   "metadata": {},
   "outputs": [
    {
     "name": "stdout",
     "output_type": "stream",
     "text": [
      "Time taken for SVD transformation is 1.1184415817260742 seconds\n",
      "Train mean square error: 1.0903901137553595\n",
      "Time taken for 1 epoch is 28.86245059967041\n",
      "Test mean square error: 1.1561962302837707\n",
      "**************************************************\n",
      "Train mean square error: 0.9833924047686907\n",
      "Time taken for 2 epoch is 29.65298581123352\n",
      "Test mean square error: 1.1265009409947244\n",
      "**************************************************\n",
      "Train mean square error: 0.9122180867138187\n",
      "Time taken for 3 epoch is 27.60319709777832\n",
      "Test mean square error: 1.1102837958749787\n",
      "**************************************************\n",
      "Train mean square error: 0.8604361526295877\n",
      "Time taken for 4 epoch is 26.57176423072815\n",
      "Test mean square error: 1.1015052704219275\n",
      "**************************************************\n",
      "Train mean square error: 0.8210939126526058\n",
      "Time taken for 5 epoch is 29.446094274520874\n",
      "Test mean square error: 1.0973290623024066\n",
      "**************************************************\n",
      "Train mean square error: 0.790346832869455\n",
      "Time taken for 6 epoch is 27.33332109451294\n",
      "Test mean square error: 1.0961713578065508\n",
      "**************************************************\n",
      "Train mean square error: 0.7658122673669984\n",
      "Time taken for 7 epoch is 27.445263385772705\n",
      "Test mean square error: 1.0970602009639139\n",
      "**************************************************\n",
      "No improvements in test error\n",
      "**************************************************\n",
      "Overall training time: 203.40797352790833\n"
     ]
    }
   ],
   "source": [
    "from tqdm import tqdm \n",
    "import numpy as np\n",
    "\n",
    "import time\n",
    "start_time = time.time()\n",
    "\n",
    "svd_time=time.time()\n",
    "from sklearn.utils.extmath import randomized_svd\n",
    "U, Sigma, VT = randomized_svd(adjacency_matrix, n_components=10,n_iter=5, random_state=None)\n",
    "print(\"Time taken for SVD transformation is {} seconds\".format(time.time()-svd_time))\n",
    "\n",
    "overall_train_mse=[]\n",
    "overall_test_mse=[]\n",
    "epochs=10\n",
    "learning_rate=0.01\n",
    "alpha=0.1\n",
    "\n",
    "U,Sigma,VT=randomized_svd(adjacency_matrix,n_components=5,n_iter=5)\n",
    "b_i= np.zeros(adjacency_matrix.shape[0])\n",
    "c_j= np.zeros(adjacency_matrix.shape[1])\n",
    "it=cleaned_df['product']\n",
    "us=cleaned_df['user']\n",
    "mu=cleaned_df['rating'].mean()\n",
    "indices=list(zip(us,it))\n",
    "\n",
    "for epoch in range(epochs):\n",
    "    epoch_start_time=time.time()\n",
    "    L=0\n",
    "    se=[]\n",
    "    for user_id,item_id in indices:\n",
    "        b_i[user_id]=b_i[user_id]-(learning_rate*derivative_db(user_id,item_id,adjacency_matrix[user_id,item_id],U,VT,mu,alpha))\n",
    "        c_j[item_id]=c_j[item_id]-(learning_rate*derivative_dc(user_id,item_id,adjacency_matrix[user_id,item_id],U,VT,mu,alpha))\n",
    "        y_pred=mu+b_i[user_id]+c_j[item_id]+np.matmul(U[user_id],VT.T[item_id])\n",
    "        se.append((adjacency_matrix[user_id,item_id]-y_pred)**2)\n",
    "    mse=np.mean(se)\n",
    "    print(\"Train mean square error:\",mse)\n",
    "    print(\"Time taken for {0} epoch is {1}\".format(epoch+1,time.time()-epoch_start_time))\n",
    "    overall_train_mse.append(mse)\n",
    "    \n",
    "    y_overall_test_pred=[]\n",
    "    for test_user in test_list:\n",
    "        y_test_pred=mu+b_i[test_user[0]]+c_j[test_user[1]]+np.matmul(U[test_user[0]],VT.T[test_user[1]])\n",
    "        y_overall_test_pred.append(y_test_pred)\n",
    "    overall_mse=[]\n",
    "    for i in range(len(test_list)):\n",
    "        se=(test_list[i][2]-y_overall_test_pred[i])**2\n",
    "        overall_mse.append(se)\n",
    "    test_mse=np.array(overall_mse).mean()\n",
    "    overall_test_mse.append(test_mse)\n",
    "    print(\"Test mean square error:\",test_mse)\n",
    "    print('*'*50)\n",
    "    if epoch>=2 and overall_test_mse[-2]-overall_test_mse[-1]<=0.001:\n",
    "        print(\"No improvements in test error\")\n",
    "        print('*'*50)\n",
    "        break\n",
    "    \n",
    "print(\"Overall training time:\",(time.time() - start_time))"
   ]
  },
  {
   "cell_type": "code",
   "execution_count": 25,
   "metadata": {},
   "outputs": [
    {
     "data": {
      "image/png": "[encoded data removed]",
      "text/plain": [
       "<Figure size 1080x720 with 1 Axes>"
      ]
     },
     "metadata": {
      "needs_background": "light"
     },
     "output_type": "display_data"
    }
   ],
   "source": [
    "import matplotlib.pyplot as plt\n",
    "fig=plt.figure(figsize=(15,10))\n",
    "plt.plot(np.arange(1,len(overall_train_mse)+1),overall_train_mse,label='Train score',marker='o')\n",
    "plt.plot(np.arange(1,len(overall_test_mse)+1),overall_test_mse,label='Test score',marker='o')\n",
    "plt.title(\"Train Vs Test score using SVD\")\n",
    "plt.xlabel(\"Epoch\")\n",
    "plt.ylabel(\"Mean Squared Error\")\n",
    "plt.legend()\n",
    "plt.show()"
   ]
  },
  {
   "cell_type": "code",
   "execution_count": 26,
   "metadata": {},
   "outputs": [
    {
     "name": "stdout",
     "output_type": "stream",
     "text": [
      "Some sample predictions done using SVD compared with true values\n",
      "True rating: 5.0 Predicted rating 3.503156625369295\n",
      "True rating: 5.0 Predicted rating 4.984007827488396\n",
      "True rating: 4.0 Predicted rating 3.9953076433218526\n",
      "True rating: 5.0 Predicted rating 4.127234360418105\n",
      "True rating: 1.0 Predicted rating 3.450916443279411\n",
      "True rating: 5.0 Predicted rating 4.34001400908689\n",
      "True rating: 2.0 Predicted rating 4.201996544969539\n",
      "True rating: 5.0 Predicted rating 4.480146377750839\n",
      "True rating: 5.0 Predicted rating 4.772812205427201\n",
      "True rating: 5.0 Predicted rating 3.7974435074524626\n"
     ]
    }
   ],
   "source": [
    "print(\"Some sample predictions done using SVD compared with true values\")\n",
    "for i in range(10):\n",
    "    print(\"True rating:\",test_list[i][2],\"Predicted rating\",y_overall_test_pred[i])"
   ]
  },
  {
   "cell_type": "markdown",
   "metadata": {},
   "source": [
    "### Using SGD###"
   ]
  },
  {
   "cell_type": "code",
   "execution_count": 27,
   "metadata": {},
   "outputs": [],
   "source": [
    "def derivative_db(user_id,item_id,rating,U,V,mu,alpha):\n",
    "    '''In this function, we will compute dL/db_i'''\n",
    "    gradient=(alpha*b_i_sgd[user_id]*2)-(2*(rating-mu-b_i_sgd[user_id]-c_j_sgd[item_id]-np.matmul(U[user_id],V.T[item_id])))\n",
    "    return gradient\n",
    "\n",
    "def derivative_dc(user_id,item_id,rating,U,V,mu, alpha):\n",
    "    '''In this function, we will compute dL/dc_j'''\n",
    "    gradient=(alpha*c_j_sgd[item_id]*2)-(2*(rating-mu-b_i_sgd[user_id]-c_j_sgd[item_id]-np.matmul(U[user_id],V.T[item_id])))\n",
    "    return gradient\n",
    "\n",
    "def gradient_du(user_id,item_id,rating,U,V,mu, alpha):\n",
    "  gradient=(alpha*2*np.matmul(U[user_id],U[user_id]))+(2*(rating-mu-b_i_sgd[user_id]-c_j_sgd[item_id]-np.matmul(U[user_id],V.T[item_id]))*V.T[item_id])\n",
    "  return gradient\n",
    "\n",
    "def gradient_dv(user_id,item_id,rating,U,V,mu, alpha):\n",
    "  gradient=(alpha*2*np.matmul(V.T[item_id],V.T[item_id]))+(2*(rating-mu-b_i_sgd[user_id]-c_j_sgd[item_id]-np.matmul(U[user_id],V.T[item_id]))*U[user_id])\n",
    "  return gradient                                            "
   ]
  },
  {
   "cell_type": "code",
   "execution_count": 28,
   "metadata": {},
   "outputs": [
    {
     "name": "stdout",
     "output_type": "stream",
     "text": [
      "Train mean square error: 1.0905551614353812\n",
      "Time taken for 1 epoch is 60.493308305740356\n",
      "Test mean square error: 1.156228077424346\n",
      "**************************************************\n",
      "Train mean square error: 0.983541618977723\n",
      "Time taken for 2 epoch is 61.226919174194336\n",
      "Test mean square error: 1.1265311354853462\n",
      "**************************************************\n",
      "Train mean square error: 0.912357093194993\n",
      "Time taken for 3 epoch is 60.8610942363739\n",
      "Test mean square error: 1.1103119990268686\n",
      "**************************************************\n",
      "Train mean square error: 0.8605673093237912\n",
      "Time taken for 4 epoch is 63.77445912361145\n",
      "Test mean square error: 1.1015323570046456\n",
      "**************************************************\n",
      "Train mean square error: 0.8212189381539912\n",
      "Time taken for 5 epoch is 74.2374496459961\n",
      "Test mean square error: 1.0973556368380206\n",
      "**************************************************\n",
      "Train mean square error: 0.7904669709900349\n",
      "Time taken for 6 epoch is 73.74870419502258\n",
      "Test mean square error: 1.0961978288035472\n",
      "**************************************************\n",
      "Train mean square error: 0.765928444584876\n",
      "Time taken for 7 epoch is 72.00969958305359\n",
      "Test mean square error: 1.097086854074087\n",
      "**************************************************\n",
      "No improvements in test error\n",
      "**************************************************\n",
      "Overall training time: 473.2880492210388\n"
     ]
    }
   ],
   "source": [
    "from tqdm import tqdm \n",
    "\n",
    "import time\n",
    "start_time = time.time()\n",
    "\n",
    "b_i_sgd=np.zeros(adjacency_matrix.shape[0])\n",
    "c_j_sgd=np.zeros(adjacency_matrix.shape[1])\n",
    "\n",
    "overall_train_mse=[]\n",
    "overall_test_mse=[]\n",
    "epochs=10\n",
    "learning_rate=0.01\n",
    "alpha=0.1\n",
    "\n",
    "m_u_sgd=train_data['overall'].mean()\n",
    "U_SGD=np.zeros((adjacency_matrix.shape[0],10))\n",
    "VT_SGD=np.zeros((10,adjacency_matrix.shape[1]))\n",
    "\n",
    "pr=cleaned_df['product']\n",
    "us=cleaned_df['user']\n",
    "indices=list(zip(us,pr))\n",
    "\n",
    "for epoch in range(epochs):\n",
    "    epoch_start_time=time.time()\n",
    "    L=0\n",
    "    se=[]\n",
    "    for user_id,item_id in indices:\n",
    "        b_i_sgd[user_id]=b_i_sgd[user_id]-(learning_rate*derivative_db(user_id,item_id,adjacency_matrix[user_id,item_id],U_SGD,VT_SGD,m_u_sgd,alpha))\n",
    "        c_j_sgd[item_id]=c_j_sgd[item_id]-(learning_rate*derivative_dc(user_id,item_id,adjacency_matrix[user_id,item_id],U_SGD,VT_SGD,m_u_sgd,alpha))\n",
    "        U_SGD[user_id]=U_SGD[user_id]-(learning_rate*gradient_du(user_id,item_id,adjacency_matrix[user_id,item_id],U_SGD,VT_SGD,m_u_sgd,alpha))\n",
    "        VT_SGD.T[item_id]=VT_SGD.T[item_id]-(learning_rate*gradient_dv(user_id,item_id,adjacency_matrix[user_id,item_id],U_SGD,VT_SGD,m_u_sgd,alpha))\n",
    "        y_pred=m_u_sgd+b_i_sgd[user_id]+c_j_sgd[item_id]+np.matmul(U_SGD[user_id],VT_SGD.T[item_id])\n",
    "        se.append((adjacency_matrix[user_id,item_id]-y_pred)**2)\n",
    "    mse=np.mean(se)\n",
    "    print(\"Train mean square error:\",mse)\n",
    "    print(\"Time taken for {0} epoch is {1}\".format(epoch+1,time.time()-epoch_start_time))\n",
    "    overall_train_mse.append(mse)\n",
    "    \n",
    "    #Testing\n",
    "    y_overall_test_pred=[]\n",
    "    for test_user in test_list:\n",
    "        y_test_pred=m_u_sgd+b_i_sgd[test_user[0]]+c_j_sgd[test_user[1]]+np.matmul(U_SGD[test_user[0]],VT_SGD.T[test_user[1]])\n",
    "        y_overall_test_pred.append(y_test_pred)\n",
    "    test_mse=[]\n",
    "    for i in range(len(test_list)):\n",
    "        se=(test_list[i][2]-y_overall_test_pred[i])**2\n",
    "        test_mse.append(se)\n",
    "    test_mse=np.array(test_mse).mean()\n",
    "    overall_test_mse.append(test_mse)\n",
    "    print(\"Test mean square error:\",test_mse)\n",
    "    print('*'*50)\n",
    "    if epoch>=2 and overall_test_mse[-2]-overall_test_mse[-1]<=0.001:\n",
    "        print(\"No improvements in test error\")\n",
    "        print('*'*50)\n",
    "        break\n",
    "    \n",
    "print(\"Overall training time:\",(time.time() - start_time))"
   ]
  },
  {
   "cell_type": "code",
   "execution_count": 29,
   "metadata": {},
   "outputs": [
    {
     "data": {
      "image/png": "[encoded data removed]",
      "text/plain": [
       "<Figure size 1080x720 with 1 Axes>"
      ]
     },
     "metadata": {
      "needs_background": "light"
     },
     "output_type": "display_data"
    }
   ],
   "source": [
    "import matplotlib.pyplot as plt\n",
    "fig=plt.figure(figsize=(15,10))\n",
    "plt.plot(np.arange(1,len(overall_train_mse)+1),overall_train_mse,label='Train score',marker='o')\n",
    "plt.plot(np.arange(1,len(overall_test_mse)+1),overall_test_mse,label='Test score',marker='o')\n",
    "plt.title(\"Train Vs Test score using SGD\")\n",
    "plt.xlabel(\"Epoch\")\n",
    "plt.ylabel(\"Mean Squared Error\")\n",
    "plt.legend()\n",
    "plt.show()"
   ]
  },
  {
   "cell_type": "code",
   "execution_count": 35,
   "metadata": {},
   "outputs": [],
   "source": []
  },
  {
   "cell_type": "code",
   "execution_count": 30,
   "metadata": {},
   "outputs": [
    {
     "name": "stdout",
     "output_type": "stream",
     "text": [
      "Some sample predictions made using SGD compared with true values\n",
      "True rating: 5.0 Predicted rating 3.5031233872914704\n",
      "True rating: 5.0 Predicted rating 4.984007757521433\n",
      "True rating: 4.0 Predicted rating 4.045884560840372\n",
      "True rating: 5.0 Predicted rating 4.127363879953404\n",
      "True rating: 1.0 Predicted rating 3.450917276351965\n",
      "True rating: 5.0 Predicted rating 4.340013821890079\n",
      "True rating: 2.0 Predicted rating 4.2019073732610215\n",
      "True rating: 5.0 Predicted rating 4.480229602530589\n",
      "True rating: 5.0 Predicted rating 4.772830589353966\n",
      "True rating: 5.0 Predicted rating 3.797436619814654\n"
     ]
    }
   ],
   "source": [
    "print(\"Some sample predictions made using SGD compared with true values\")\n",
    "for i in range(10):\n",
    "    print(\"True rating:\",test_list[i][2],\"Predicted rating\",y_overall_test_pred[i])"
   ]
  },
  {
   "cell_type": "code",
   "execution_count": null,
   "metadata": {},
   "outputs": [],
   "source": []
  }
 ],
 "metadata": {
  "kernelspec": {
   "display_name": "Python 3",
   "language": "python",
   "name": "python3"
  },
  "language_info": {
   "codemirror_mode": {
    "name": "ipython",
    "version": 3
   },
   "file_extension": ".py",
   "mimetype": "text/x-python",
   "name": "python",
   "nbconvert_exporter": "python",
   "pygments_lexer": "ipython3",
   "version": "3.7.4"
  }
 },
 "nbformat": 4,
 "nbformat_minor": 2
}
